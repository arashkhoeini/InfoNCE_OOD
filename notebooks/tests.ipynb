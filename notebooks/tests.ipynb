{
 "cells": [
  {
   "cell_type": "code",
   "execution_count": 11,
   "metadata": {},
   "outputs": [],
   "source": [
    "import torch\n",
    "import math"
   ]
  },
  {
   "cell_type": "code",
   "execution_count": 43,
   "metadata": {},
   "outputs": [
    {
     "name": "stdout",
     "output_type": "stream",
     "text": [
      "3\n",
      "7 11\n",
      "tensor([[ 1.,  2.,  3.,  4.,  5.,  6.,  7.,  8.,  9., 10., 11.],\n",
      "        [11., 10.,  9.,  8.,  7.,  6.,  5.,  4.,  3.,  2.,  1.],\n",
      "        [ 1.,  3.,  2.,  5.,  4.,  7., 11.,  6.,  9.,  8., 10.]])\n",
      "tensor([[ 8,  9, 10],\n",
      "        [ 3,  2,  1],\n",
      "        [ 8, 10,  6]])\n",
      "tensor([[ 9., 10., 11.],\n",
      "        [ 8.,  9., 10.],\n",
      "        [ 9., 10., 11.]])\n"
     ]
    }
   ],
   "source": [
    "# random logits\n",
    "logits = torch.tensor([[ 1 , 2, 3, 4, 5, 6, 7, 8, 9, 10, 11], \n",
    "                            [11, 10, 9, 8, 7, 6, 5, 4, 3, 2, 1], \n",
    "                            [ 1,3, 2, 5, 4, 7, 11, 6, 9, 8, 10]], dtype=torch.float32)\n",
    "probs = torch.nn.functional.softmax(logits, dim=1)\n",
    "# drop the first column from probs\n",
    "\n",
    "\n",
    "sorted_probs, indices = torch.sort(probs[:,1:])\n",
    "difficutly = (.7, 1)\n",
    "first_logit = math.floor( difficutly[0] * probs.size(1))\n",
    "last_logit = math.floor(difficutly[1] * probs.size(1))\n",
    "print(probs.size(0))\n",
    "print(first_logit, last_logit)\n",
    "print(logits)\n",
    "indices = indices[:, first_logit:last_logit]+1\n",
    "print(indices)\n",
    "# get indices from logits \n",
    "print(logits[ torch.arange(0, logits.shape[0]).long().unsqueeze(1) , indices])"
   ]
  },
  {
   "cell_type": "code",
   "execution_count": null,
   "metadata": {},
   "outputs": [],
   "source": []
  }
 ],
 "metadata": {
  "kernelspec": {
   "display_name": "ENV",
   "language": "python",
   "name": "python3"
  },
  "language_info": {
   "codemirror_mode": {
    "name": "ipython",
    "version": 3
   },
   "file_extension": ".py",
   "mimetype": "text/x-python",
   "name": "python",
   "nbconvert_exporter": "python",
   "pygments_lexer": "ipython3",
   "version": "3.10.14"
  }
 },
 "nbformat": 4,
 "nbformat_minor": 2
}
